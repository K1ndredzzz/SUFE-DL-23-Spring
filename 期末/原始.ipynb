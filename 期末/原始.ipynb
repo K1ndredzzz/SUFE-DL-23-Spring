{
 "cells": [
  {
   "cell_type": "code",
   "execution_count": 1,
   "id": "6bdb99d3",
   "metadata": {},
   "outputs": [
    {
     "name": "stdout",
     "output_type": "stream",
     "text": [
      "Downloading and preparing dataset csv/default to C:/Users/K1ndred/.cache/huggingface/datasets/csv/default-5e45c0bc944fa862/0.0.0/6954658bab30a358235fa864b05cf819af0e179325c740e4bc853bcc7ec513e1...\n"
     ]
    },
    {
     "data": {
      "application/vnd.jupyter.widget-view+json": {
       "model_id": "892166d001c14b619660230d3d3a16f6",
       "version_major": 2,
       "version_minor": 0
      },
      "text/plain": [
       "Downloading data files:   0%|          | 0/1 [00:00<?, ?it/s]"
      ]
     },
     "metadata": {},
     "output_type": "display_data"
    },
    {
     "data": {
      "application/vnd.jupyter.widget-view+json": {
       "model_id": "317640fc0d254ca68d5cf530b896dec4",
       "version_major": 2,
       "version_minor": 0
      },
      "text/plain": [
       "Extracting data files:   0%|          | 0/1 [00:00<?, ?it/s]"
      ]
     },
     "metadata": {},
     "output_type": "display_data"
    },
    {
     "data": {
      "application/vnd.jupyter.widget-view+json": {
       "model_id": "c6be33dbbd8e4156b6bcde43ebd0d47f",
       "version_major": 2,
       "version_minor": 0
      },
      "text/plain": [
       "Generating train split: 0 examples [00:00, ? examples/s]"
      ]
     },
     "metadata": {},
     "output_type": "display_data"
    },
    {
     "name": "stdout",
     "output_type": "stream",
     "text": [
      "Dataset csv downloaded and prepared to C:/Users/K1ndred/.cache/huggingface/datasets/csv/default-5e45c0bc944fa862/0.0.0/6954658bab30a358235fa864b05cf819af0e179325c740e4bc853bcc7ec513e1. Subsequent calls will reuse this data.\n"
     ]
    },
    {
     "data": {
      "application/vnd.jupyter.widget-view+json": {
       "model_id": "8a7ea67f4fde4809a1f3a2592f316577",
       "version_major": 2,
       "version_minor": 0
      },
      "text/plain": [
       "Casting to class labels:   0%|          | 0/2086 [00:00<?, ? examples/s]"
      ]
     },
     "metadata": {},
     "output_type": "display_data"
    },
    {
     "data": {
      "application/vnd.jupyter.widget-view+json": {
       "model_id": "8d1579b9915047cd9ae7e16b4bf8d139",
       "version_major": 2,
       "version_minor": 0
      },
      "text/plain": [
       "Map:   0%|          | 0/2086 [00:00<?, ? examples/s]"
      ]
     },
     "metadata": {},
     "output_type": "display_data"
    },
    {
     "name": "stderr",
     "output_type": "stream",
     "text": [
      "Some weights of the model checkpoint at bert-base-chinese were not used when initializing BertForSequenceClassification: ['cls.predictions.transform.LayerNorm.bias', 'cls.predictions.transform.LayerNorm.weight', 'cls.seq_relationship.bias', 'cls.predictions.decoder.weight', 'cls.seq_relationship.weight', 'cls.predictions.transform.dense.weight', 'cls.predictions.transform.dense.bias', 'cls.predictions.bias']\n",
      "- This IS expected if you are initializing BertForSequenceClassification from the checkpoint of a model trained on another task or with another architecture (e.g. initializing a BertForSequenceClassification model from a BertForPreTraining model).\n",
      "- This IS NOT expected if you are initializing BertForSequenceClassification from the checkpoint of a model that you expect to be exactly identical (initializing a BertForSequenceClassification model from a BertForSequenceClassification model).\n",
      "Some weights of BertForSequenceClassification were not initialized from the model checkpoint at bert-base-chinese and are newly initialized: ['classifier.weight', 'classifier.bias']\n",
      "You should probably TRAIN this model on a down-stream task to be able to use it for predictions and inference.\n"
     ]
    }
   ],
   "source": [
    "# 引入所需的库和模块\n",
    "import numpy as np\n",
    "import pandas as pd\n",
    "from datasets import load_dataset\n",
    "from transformers import AutoTokenizer, AutoModelForSequenceClassification, set_seed\n",
    "import torch\n",
    "from torch.optim import AdamW\n",
    "from torch.optim.lr_scheduler import OneCycleLR\n",
    "from torch.utils.data import DataLoader\n",
    "\n",
    "# 定义超参数\n",
    "BATCH_SIZE = 32  # 批处理大小\n",
    "EPOCHS = 50  # 迭代次数\n",
    "MAX_LENGTH = 32  # 序列最大长度\n",
    "LEARNING_RATE = 5e-5  # 学习率\n",
    "WEIGHT_DECAY = 0.01  # 权重衰减系数\n",
    "NUM_WARMUP_STEPS = 1000  # 热身步骤数\n",
    "MODEL_NAME = 'bert-base-chinese'  # 预训练模型名\n",
    "TRAIN_SIZE = 0.9  # 训练集比例，剩余为验证集\n",
    "\n",
    "# 设置随机种子，保证结果可复现\n",
    "set_seed(42)\n",
    "\n",
    "# 加载csv数据集，数据路径为'train_dataset.csv'\n",
    "raw_dataset = load_dataset('csv', data_files='train_dataset.csv', split='train')\n",
    "\n",
    "# 对标签进行编码，将类别标签转化为数字\n",
    "raw_dataset = raw_dataset.class_encode_column('label')\n",
    "\n",
    "# 从预训练模型名加载Tokenizer\n",
    "tokenizer = AutoTokenizer.from_pretrained(MODEL_NAME)\n",
    "\n",
    "# 定义编码函数，对输入的文本进行编码\n",
    "def encode(examples):\n",
    "    return tokenizer(examples['query'], truncation=True, padding='max_length', max_length=MAX_LENGTH)\n",
    "\n",
    "# 对数据集进行编码\n",
    "raw_dataset = raw_dataset.map(encode, batched=True, remove_columns='#')\n",
    "\n",
    "\n",
    "# # 不划分训练集于验证集（需要注释下面几行代码）\n",
    "# train_dataset = raw_dataset\n",
    "# valid_dataset = raw_dataset\n",
    "\n",
    "# 划分训练集和验证集\n",
    "raw_dataset = raw_dataset.train_test_split(train_size=TRAIN_SIZE, seed=42)\n",
    "train_dataset = raw_dataset['train']\n",
    "valid_dataset = raw_dataset['test']\n",
    "\n",
    "\n",
    "# 设置数据格式，用于训练模型\n",
    "train_dataset.set_format('torch', columns=['input_ids', 'attention_mask', 'label'])\n",
    "valid_dataset.set_format('torch', columns=['input_ids', 'attention_mask', 'label'])\n",
    "\n",
    "# 创建数据加载器\n",
    "train_dataloader = DataLoader(train_dataset, batch_size=BATCH_SIZE, shuffle=True)\n",
    "valid_dataloader = DataLoader(valid_dataset, batch_size=BATCH_SIZE, shuffle=False)\n",
    "\n",
    "# 准备模型，优化器和学习率调度器\n",
    "model = AutoModelForSequenceClassification.from_pretrained(MODEL_NAME, num_labels=train_dataset.features['label'].num_classes)\n",
    "device = torch.device('cuda:1') if torch.cuda.is_available() else torch.device('cpu')\n",
    "model.to(device)\n",
    "\n",
    "optimizer = AdamW(model.parameters(), lr=LEARNING_RATE, weight_decay=WEIGHT_DECAY)\n",
    "scheduler = OneCycleLR(optimizer, max_lr=LEARNING_RATE, epochs=EPOCHS, steps_per_epoch=len(train_dataloader))"
   ]
  },
  {
   "cell_type": "code",
   "execution_count": null,
   "id": "cfa4aae8",
   "metadata": {},
   "outputs": [],
   "source": [
    "\n",
    "# 进行模型训练\n",
    "best_acc = 0\n",
    "for epoch in range(EPOCHS):\n",
    "    total_loss = 0\n",
    "    model.train()\n",
    "    for step, batch in enumerate(train_dataloader):\n",
    "        input_ids = batch['input_ids'].to(device)\n",
    "        attention_mask = batch['attention_mask'].to(device)\n",
    "        labels = batch['label'].to(device)\n",
    "\n",
    "        # 模型前向传播，计算loss\n",
    "        outputs = model(input_ids, attention_mask=attention_mask, labels=labels)\n",
    "        loss = outputs.loss\n",
    "        # 反向传播，更新梯度\n",
    "        loss.backward()\n",
    "        \n",
    "        # 优化器步进，更新模型参数\n",
    "        optimizer.step()\n",
    "        # 更新学习率\n",
    "        scheduler.step()\n",
    "        # 清空梯度\n",
    "        optimizer.zero_grad()\n",
    "\n",
    "        total_loss += loss.detach().item()\n",
    "        \n",
    "    # 验证模型，计算验证集上的精度\n",
    "    model.eval()\n",
    "    valid_predictions = []\n",
    "    for batch in valid_dataloader:\n",
    "        input_ids = batch['input_ids'].to(device)\n",
    "        attention_mask = batch['attention_mask'].to(device)\n",
    "        with torch.no_grad():\n",
    "            outputs = model(input_ids, attention_mask=attention_mask)\n",
    "        \n",
    "        valid_predictions.extend(outputs.logits.argmax(-1).cpu().numpy())\n",
    "    \n",
    "    valid_acc = np.mean(valid_predictions == valid_dataset['label'].numpy())\n",
    "    print(f\"Epoch: {epoch+1}, Train Loss: {total_loss:.3f}, Validation Accuracy: {valid_acc:.4f}\")\n",
    "    \n",
    "    # 保存在验证集上最好的结果\n",
    "    if valid_acc >= best_acc:\n",
    "        model.save_pretrained('output')"
   ]
  },
  {
   "cell_type": "code",
   "execution_count": null,
   "id": "46276caa",
   "metadata": {
    "scrolled": false
   },
   "outputs": [],
   "source": [
    "# 加载测试数据集，对测试集进行预测\n",
    "test_dataset = load_dataset('csv', data_files='test_dataset.csv', split='train')\n",
    "test_id = test_dataset['id']\n",
    "test_dataset = test_dataset.map(encode, batched=True, remove_columns='id')\n",
    "test_dataset.set_format('torch', columns=['input_ids', 'attention_mask'])\n",
    "test_loader = torch.utils.data.DataLoader(test_dataset, batch_size=BATCH_SIZE, shuffle=False)\n",
    "\n",
    "model = AutoModelForSequenceClassification.from_pretrained('output')\n",
    "model.to(device)\n",
    "\n",
    "model.eval()\n",
    "predictions = []\n",
    "for batch in test_loader:\n",
    "    input_ids = batch['input_ids'].to(device)\n",
    "    attention_mask = batch['attention_mask'].to(device)\n",
    "    with torch.no_grad():\n",
    "        outputs = model(input_ids, attention_mask=attention_mask)\n",
    "\n",
    "    predictions.extend(outputs.logits.argmax(-1).cpu().numpy())\n",
    "\n",
    "# 将预测的标签从数字转换回原始的类别\n",
    "predicted_labels = train_dataset.features['label'].int2str(predictions)\n",
    "\n",
    "# 保存预测结果，以csv格式存储\n",
    "submission = pd.DataFrame({'id': test_id, 'label': predicted_labels})\n",
    "submission.to_csv('submit_sample.csv', index=False)"
   ]
  },
  {
   "cell_type": "code",
   "execution_count": null,
   "id": "4a8ed627",
   "metadata": {},
   "outputs": [],
   "source": []
  }
 ],
 "metadata": {
  "kernelspec": {
   "display_name": "Global Python",
   "language": "python",
   "name": "global_python"
  },
  "language_info": {
   "codemirror_mode": {
    "name": "ipython",
    "version": 3
   },
   "file_extension": ".py",
   "mimetype": "text/x-python",
   "name": "python",
   "nbconvert_exporter": "python",
   "pygments_lexer": "ipython3",
   "version": "3.10.1"
  }
 },
 "nbformat": 4,
 "nbformat_minor": 5
}
