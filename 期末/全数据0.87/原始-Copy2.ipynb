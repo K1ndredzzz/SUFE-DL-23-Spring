{
 "cells": [
  {
   "cell_type": "code",
   "execution_count": 2,
   "id": "6bdb99d3",
   "metadata": {
    "execution": {
     "iopub.execute_input": "2023-06-09T05:07:08.108451Z",
     "iopub.status.busy": "2023-06-09T05:07:08.108271Z",
     "iopub.status.idle": "2023-06-09T05:15:13.739479Z",
     "shell.execute_reply": "2023-06-09T05:15:13.738807Z",
     "shell.execute_reply.started": "2023-06-09T05:07:08.108434Z"
    },
    "tags": []
   },
   "outputs": [
    {
     "name": "stderr",
     "output_type": "stream",
     "text": [
      "Found cached dataset csv (/root/.cache/huggingface/datasets/csv/default-2de56802f1ede12a/0.0.0/6954658bab30a358235fa864b05cf819af0e179325c740e4bc853bcc7ec513e1)\n",
      "Loading cached processed dataset at /root/.cache/huggingface/datasets/csv/default-2de56802f1ede12a/0.0.0/6954658bab30a358235fa864b05cf819af0e179325c740e4bc853bcc7ec513e1/cache-87761e9464147f5e.arrow\n"
     ]
    },
    {
     "data": {
      "application/vnd.jupyter.widget-view+json": {
       "model_id": "",
       "version_major": 2,
       "version_minor": 0
      },
      "text/plain": [
       "Map:   0%|          | 0/2659 [00:00<?, ? examples/s]"
      ]
     },
     "metadata": {},
     "output_type": "display_data"
    },
    {
     "name": "stderr",
     "output_type": "stream",
     "text": [
      "Some weights of the model checkpoint at bert-base-chinese were not used when initializing BertForSequenceClassification: ['cls.seq_relationship.weight', 'cls.seq_relationship.bias', 'cls.predictions.bias', 'cls.predictions.transform.LayerNorm.weight', 'cls.predictions.transform.dense.weight', 'cls.predictions.transform.dense.bias', 'cls.predictions.decoder.weight', 'cls.predictions.transform.LayerNorm.bias']\n",
      "- This IS expected if you are initializing BertForSequenceClassification from the checkpoint of a model trained on another task or with another architecture (e.g. initializing a BertForSequenceClassification model from a BertForPreTraining model).\n",
      "- This IS NOT expected if you are initializing BertForSequenceClassification from the checkpoint of a model that you expect to be exactly identical (initializing a BertForSequenceClassification model from a BertForSequenceClassification model).\n",
      "Some weights of BertForSequenceClassification were not initialized from the model checkpoint at bert-base-chinese and are newly initialized: ['classifier.weight', 'classifier.bias']\n",
      "You should probably TRAIN this model on a down-stream task to be able to use it for predictions and inference.\n"
     ]
    },
    {
     "name": "stdout",
     "output_type": "stream",
     "text": [
      "Epoch: 1, Train Loss: 542.997, Validation Accuracy: 0.0023\n",
      "Epoch: 2, Train Loss: 538.080, Validation Accuracy: 0.0041\n",
      "Epoch: 3, Train Loss: 532.022, Validation Accuracy: 0.0083\n",
      "Epoch: 4, Train Loss: 522.015, Validation Accuracy: 0.0275\n",
      "Epoch: 5, Train Loss: 509.723, Validation Accuracy: 0.0763\n",
      "Epoch: 6, Train Loss: 494.375, Validation Accuracy: 0.1692\n",
      "Epoch: 7, Train Loss: 474.947, Validation Accuracy: 0.3317\n",
      "Epoch: 8, Train Loss: 453.572, Validation Accuracy: 0.4739\n",
      "Epoch: 9, Train Loss: 429.394, Validation Accuracy: 0.6563\n",
      "Epoch: 10, Train Loss: 403.325, Validation Accuracy: 0.7638\n",
      "Epoch: 11, Train Loss: 374.903, Validation Accuracy: 0.8289\n",
      "Epoch: 12, Train Loss: 344.425, Validation Accuracy: 0.8891\n",
      "Epoch: 13, Train Loss: 311.148, Validation Accuracy: 0.9304\n",
      "Epoch: 14, Train Loss: 276.604, Validation Accuracy: 0.9534\n",
      "Epoch: 15, Train Loss: 243.210, Validation Accuracy: 0.9560\n",
      "Epoch: 16, Train Loss: 209.258, Validation Accuracy: 0.9699\n",
      "Epoch: 17, Train Loss: 174.296, Validation Accuracy: 0.9725\n",
      "Epoch: 18, Train Loss: 141.980, Validation Accuracy: 0.9793\n",
      "Epoch: 19, Train Loss: 114.560, Validation Accuracy: 0.9804\n",
      "Epoch: 20, Train Loss: 90.600, Validation Accuracy: 0.9876\n",
      "Epoch: 21, Train Loss: 72.503, Validation Accuracy: 0.9910\n",
      "Epoch: 22, Train Loss: 56.482, Validation Accuracy: 0.9955\n",
      "Epoch: 23, Train Loss: 45.634, Validation Accuracy: 0.9970\n",
      "Epoch: 24, Train Loss: 37.518, Validation Accuracy: 0.9962\n",
      "Epoch: 25, Train Loss: 29.877, Validation Accuracy: 0.9977\n",
      "Epoch: 26, Train Loss: 24.878, Validation Accuracy: 0.9977\n",
      "Epoch: 27, Train Loss: 21.491, Validation Accuracy: 0.9977\n",
      "Epoch: 28, Train Loss: 18.524, Validation Accuracy: 0.9981\n",
      "Epoch: 29, Train Loss: 16.246, Validation Accuracy: 0.9985\n",
      "Epoch: 30, Train Loss: 14.142, Validation Accuracy: 0.9985\n",
      "Epoch: 31, Train Loss: 12.806, Validation Accuracy: 0.9985\n",
      "Epoch: 32, Train Loss: 11.406, Validation Accuracy: 0.9981\n",
      "Epoch: 33, Train Loss: 10.326, Validation Accuracy: 0.9985\n",
      "Epoch: 34, Train Loss: 9.275, Validation Accuracy: 0.9985\n",
      "Epoch: 35, Train Loss: 8.531, Validation Accuracy: 0.9985\n",
      "Epoch: 36, Train Loss: 7.846, Validation Accuracy: 0.9985\n",
      "Epoch: 37, Train Loss: 7.184, Validation Accuracy: 0.9985\n",
      "Epoch: 38, Train Loss: 6.808, Validation Accuracy: 0.9985\n",
      "Epoch: 39, Train Loss: 6.268, Validation Accuracy: 0.9985\n",
      "Epoch: 40, Train Loss: 5.870, Validation Accuracy: 0.9985\n",
      "Epoch: 41, Train Loss: 5.591, Validation Accuracy: 0.9985\n",
      "Epoch: 42, Train Loss: 5.277, Validation Accuracy: 0.9985\n",
      "Epoch: 43, Train Loss: 4.991, Validation Accuracy: 0.9985\n",
      "Epoch: 44, Train Loss: 4.742, Validation Accuracy: 0.9985\n",
      "Epoch: 45, Train Loss: 4.489, Validation Accuracy: 0.9985\n",
      "Epoch: 46, Train Loss: 4.311, Validation Accuracy: 0.9985\n",
      "Epoch: 47, Train Loss: 4.231, Validation Accuracy: 0.9985\n",
      "Epoch: 48, Train Loss: 4.166, Validation Accuracy: 0.9985\n",
      "Epoch: 49, Train Loss: 3.986, Validation Accuracy: 0.9985\n",
      "Epoch: 50, Train Loss: 3.742, Validation Accuracy: 0.9985\n",
      "Epoch: 51, Train Loss: 3.581, Validation Accuracy: 0.9985\n",
      "Epoch: 52, Train Loss: 3.476, Validation Accuracy: 0.9985\n",
      "Epoch: 53, Train Loss: 3.423, Validation Accuracy: 0.9985\n",
      "Epoch: 54, Train Loss: 3.329, Validation Accuracy: 0.9985\n",
      "Epoch: 55, Train Loss: 3.226, Validation Accuracy: 0.9985\n",
      "Epoch: 56, Train Loss: 3.183, Validation Accuracy: 0.9985\n",
      "Epoch: 57, Train Loss: 3.194, Validation Accuracy: 0.9985\n",
      "Epoch: 58, Train Loss: 3.072, Validation Accuracy: 0.9985\n",
      "Epoch: 59, Train Loss: 3.039, Validation Accuracy: 0.9985\n",
      "Epoch: 60, Train Loss: 3.015, Validation Accuracy: 0.9985\n",
      "Epoch: 61, Train Loss: 2.939, Validation Accuracy: 0.9985\n",
      "Epoch: 62, Train Loss: 2.913, Validation Accuracy: 0.9985\n",
      "Epoch: 63, Train Loss: 2.918, Validation Accuracy: 0.9985\n",
      "Epoch: 64, Train Loss: 2.860, Validation Accuracy: 0.9985\n",
      "Epoch: 65, Train Loss: 2.884, Validation Accuracy: 0.9985\n",
      "Epoch: 66, Train Loss: 2.884, Validation Accuracy: 0.9985\n",
      "Epoch: 67, Train Loss: 2.853, Validation Accuracy: 0.9985\n",
      "Epoch: 68, Train Loss: 2.885, Validation Accuracy: 0.9985\n",
      "Epoch: 69, Train Loss: 2.868, Validation Accuracy: 0.9985\n",
      "Epoch: 70, Train Loss: 3.130, Validation Accuracy: 0.9985\n",
      "Downloading and preparing dataset csv/default to /root/.cache/huggingface/datasets/csv/default-67caf77471a5a48e/0.0.0/6954658bab30a358235fa864b05cf819af0e179325c740e4bc853bcc7ec513e1...\n"
     ]
    },
    {
     "data": {
      "application/vnd.jupyter.widget-view+json": {
       "model_id": "b07539c46c884ee2bd339900c303859e",
       "version_major": 2,
       "version_minor": 0
      },
      "text/plain": [
       "Downloading data files:   0%|          | 0/1 [00:00<?, ?it/s]"
      ]
     },
     "metadata": {},
     "output_type": "display_data"
    },
    {
     "data": {
      "application/vnd.jupyter.widget-view+json": {
       "model_id": "7e4fdaf7553a450e92cfb56133c90b9d",
       "version_major": 2,
       "version_minor": 0
      },
      "text/plain": [
       "Extracting data files:   0%|          | 0/1 [00:00<?, ?it/s]"
      ]
     },
     "metadata": {},
     "output_type": "display_data"
    },
    {
     "data": {
      "application/vnd.jupyter.widget-view+json": {
       "model_id": "",
       "version_major": 2,
       "version_minor": 0
      },
      "text/plain": [
       "Generating train split: 0 examples [00:00, ? examples/s]"
      ]
     },
     "metadata": {},
     "output_type": "display_data"
    },
    {
     "name": "stdout",
     "output_type": "stream",
     "text": [
      "Dataset csv downloaded and prepared to /root/.cache/huggingface/datasets/csv/default-67caf77471a5a48e/0.0.0/6954658bab30a358235fa864b05cf819af0e179325c740e4bc853bcc7ec513e1. Subsequent calls will reuse this data.\n"
     ]
    },
    {
     "data": {
      "application/vnd.jupyter.widget-view+json": {
       "model_id": "",
       "version_major": 2,
       "version_minor": 0
      },
      "text/plain": [
       "Map:   0%|          | 0/1423 [00:00<?, ? examples/s]"
      ]
     },
     "metadata": {},
     "output_type": "display_data"
    }
   ],
   "source": [
    "# 引入所需的库和模块\n",
    "import numpy as np\n",
    "import pandas as pd\n",
    "from datasets import load_dataset\n",
    "from transformers import AutoTokenizer, AutoModelForSequenceClassification, set_seed\n",
    "import torch\n",
    "from torch.optim import AdamW\n",
    "from torch.optim.lr_scheduler import OneCycleLR\n",
    "from torch.utils.data import DataLoader\n",
    "\n",
    "# 定义超参数\n",
    "BATCH_SIZE = 32  # 批处理大小\n",
    "EPOCHS = 70  # 迭代次数\n",
    "MAX_LENGTH = 40  # 序列最大长度\n",
    "LEARNING_RATE = 5e-5  # 学习率\n",
    "WEIGHT_DECAY = 0.01  # 权重衰减系数\n",
    "NUM_WARMUP_STEPS = 1000  # 热身步骤数\n",
    "MODEL_NAME = 'bert-base-chinese'  # 预训练模型名\n",
    "\n",
    "# 设置随机种子，保证结果可复现\n",
    "set_seed(42)\n",
    "\n",
    "# 加载csv数据集，数据路径为'train_dataset.csv'\n",
    "raw_dataset = load_dataset('csv', data_files='train_dataset.csv', split='train')\n",
    "\n",
    "# 对标签进行编码，将类别标签转化为数字\n",
    "raw_dataset = raw_dataset.class_encode_column('label')\n",
    "\n",
    "# 从预训练模型名加载Tokenizer\n",
    "tokenizer = AutoTokenizer.from_pretrained(MODEL_NAME)\n",
    "\n",
    "# 定义编码函数，对输入的文本进行编码\n",
    "def encode(examples):\n",
    "    return tokenizer(examples['query'], truncation=True, padding='max_length', max_length=MAX_LENGTH)\n",
    "\n",
    "# 对数据集进行编码\n",
    "raw_dataset = raw_dataset.map(encode, batched=True, remove_columns='#')\n",
    "\n",
    "\n",
    "# # 不划分训练集于验证集（需要注释下面几行代码）\n",
    "train_dataset = raw_dataset\n",
    "valid_dataset = raw_dataset\n",
    "\n",
    "\n",
    "# 设置数据格式，用于训练模型\n",
    "train_dataset.set_format('torch', columns=['input_ids', 'attention_mask', 'label'])\n",
    "valid_dataset.set_format('torch', columns=['input_ids', 'attention_mask', 'label'])\n",
    "\n",
    "# 创建数据加载器\n",
    "train_dataloader = DataLoader(train_dataset, batch_size=BATCH_SIZE, shuffle=True)\n",
    "valid_dataloader = DataLoader(valid_dataset, batch_size=BATCH_SIZE, shuffle=False)\n",
    "\n",
    "# 准备模型，优化器和学习率调度器\n",
    "model = AutoModelForSequenceClassification.from_pretrained(MODEL_NAME, num_labels=train_dataset.features['label'].num_classes)\n",
    "device = torch.device('cuda') if torch.cuda.is_available() else torch.device('cpu')\n",
    "model.to(device)\n",
    "\n",
    "optimizer = AdamW(model.parameters(), lr=LEARNING_RATE, weight_decay=WEIGHT_DECAY)\n",
    "scheduler = OneCycleLR(optimizer, max_lr=LEARNING_RATE, epochs=EPOCHS, steps_per_epoch=len(train_dataloader))\n",
    "\n",
    "# 进行模型训练\n",
    "best_acc = 0\n",
    "for epoch in range(EPOCHS):\n",
    "    total_loss = 0\n",
    "    model.train()\n",
    "    for step, batch in enumerate(train_dataloader):\n",
    "        input_ids = batch['input_ids'].to(device)\n",
    "        attention_mask = batch['attention_mask'].to(device)\n",
    "        labels = batch['label'].to(device)\n",
    "\n",
    "        # 模型前向传播，计算loss\n",
    "        outputs = model(input_ids, attention_mask=attention_mask, labels=labels)\n",
    "        loss = outputs.loss\n",
    "        # 反向传播，更新梯度\n",
    "        loss.backward()\n",
    "\n",
    "        # 优化器步进，更新模型参数\n",
    "        optimizer.step()\n",
    "        # 更新学习率\n",
    "        scheduler.step()\n",
    "        # 清空梯度\n",
    "        optimizer.zero_grad()\n",
    "\n",
    "        total_loss += loss.detach().item()\n",
    "\n",
    "    # 验证模型，计算验证集上的精度\n",
    "    model.eval()\n",
    "    valid_predictions = []\n",
    "    for batch in valid_dataloader:\n",
    "        input_ids = batch['input_ids'].to(device)\n",
    "        attention_mask = batch['attention_mask'].to(device)\n",
    "        with torch.no_grad():\n",
    "            outputs = model(input_ids, attention_mask=attention_mask)\n",
    "\n",
    "        valid_predictions.extend(outputs.logits.argmax(-1).cpu().numpy())\n",
    "\n",
    "    valid_acc = np.mean(valid_predictions == valid_dataset['label'].numpy())\n",
    "    print(f\"Epoch: {epoch + 1}, Train Loss: {total_loss:.3f}, Validation Accuracy: {valid_acc:.4f}\")\n",
    "\n",
    "    # 保存在验证集上最好的结果\n",
    "    if valid_acc >= best_acc:\n",
    "        model.save_pretrained('output')\n",
    "        \n",
    "\n",
    "\n",
    "# 加载测试数据集，对测试集进行预测\n",
    "test_dataset = load_dataset('csv', data_files='test_dataset.csv', split='train')\n",
    "test_id = test_dataset['id']\n",
    "test_dataset = test_dataset.map(encode, batched=True, remove_columns='id')\n",
    "test_dataset.set_format('torch', columns=['input_ids', 'attention_mask'])\n",
    "test_loader = torch.utils.data.DataLoader(test_dataset, batch_size=BATCH_SIZE, shuffle=False)\n",
    "\n",
    "model = AutoModelForSequenceClassification.from_pretrained('output')\n",
    "model.to(device)\n",
    "\n",
    "model.eval()\n",
    "predictions = []\n",
    "for batch in test_loader:\n",
    "    input_ids = batch['input_ids'].to(device)\n",
    "    attention_mask = batch['attention_mask'].to(device)\n",
    "    with torch.no_grad():\n",
    "        outputs = model(input_ids, attention_mask=attention_mask)\n",
    "\n",
    "    predictions.extend(outputs.logits.argmax(-1).cpu().numpy())\n",
    "\n",
    "# 将预测的标签从数字转换回原始的类别\n",
    "predicted_labels = train_dataset.features['label'].int2str(predictions)\n",
    "\n",
    "# 保存预测结果，以csv格式存储\n",
    "submission = pd.DataFrame({'id': test_id, 'label': predicted_labels})\n",
    "submission.to_csv('submit_sample.csv', index=False)"
   ]
  },
  {
   "cell_type": "code",
   "execution_count": null,
   "id": "210a350a-918c-4c34-93ba-b0aa68a442b7",
   "metadata": {},
   "outputs": [],
   "source": []
  }
 ],
 "metadata": {
  "kernelspec": {
   "display_name": "Python 3 (ipykernel)",
   "language": "python",
   "name": "python3"
  },
  "language_info": {
   "codemirror_mode": {
    "name": "ipython",
    "version": 3
   },
   "file_extension": ".py",
   "mimetype": "text/x-python",
   "name": "python",
   "nbconvert_exporter": "python",
   "pygments_lexer": "ipython3",
   "version": "3.9.13"
  }
 },
 "nbformat": 4,
 "nbformat_minor": 5
}
